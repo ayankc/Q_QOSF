{
 "cells": [
  {
   "cell_type": "code",
   "execution_count": null,
   "metadata": {},
   "outputs": [],
   "source": []
  },
  {
   "cell_type": "code",
   "execution_count": 12,
   "metadata": {},
   "outputs": [
    {
     "name": "stdout",
     "output_type": "stream",
     "text": [
      "theta:1.0\n",
      "phi:1.0\n",
      "no of shots:2000\n",
      "final result::\n",
      "theta: 6.555363227794819e-05, phi: 3.1414896566060064\n"
     ]
    },
    {
     "data": {
      "image/png": "[encoded data removed]",
      "text/plain": [
       "<matplotlib.figure.Figure at 0x80e9ac8>"
      ]
     },
     "metadata": {},
     "output_type": "display_data"
    },
    {
     "data": {
      "text/plain": [
       "'The equal probability outcome of 01 and 10 state will come when the number of measurement will be large.\\n\\n   Measurement of just only 10 or smaller outcome will result skewed outcome\\n   \\n   Measurement more than 100 and 1000 or more will result almost equal probability distribution of the 2 states.\\n   \\n   The construction itself shows the deterministic outcome of 01 and 10 because to minimise the cost function which is formed and are used in gradient descent with the \\n   output state vector [0 1 1 0] with no additional phase is considered with output state vector.\\n   \\n   For outcome of 01 and -10, the same state vector will be used with a phase of pi to be considered at the 3rd index of the output state vector.\\n   \\n   The minimising condition at the gradient discent will be changed in order to accomodate the theta and phi parameter will thus be modified to fulfill the minimising condition for gradient descent.\\n   \\n   Thus the above construction gives the guaranty of the output.'"
      ]
     },
     "execution_count": 12,
     "metadata": {},
     "output_type": "execute_result"
    }
   ],
   "source": [
    "\"\"\"Circuit results definite 01 and 10 output state is one of the Bell basis circuit\n",
    "   The basic ingrediants of a Bell basis circuit are\n",
    "   1. Hadamard (H) gate at control qubit\n",
    "   2. CNOT from control to target qubit\n",
    "   It is 2-qubit circuit\n",
    "   Each qubit will be represented by unkown 'theta' and 'phi' rotattion on Ry gate\n",
    "   'theta and 'phi' will be optimally found out by Gradient descent\"\"\"\n",
    "\n",
    "from qiskit import QuantumRegister, ClassicalRegister, QuantumCircuit\n",
    "from qiskit.tools.visualization import plot_bloch_vector, plot_histogram\n",
    "from matplotlib import pyplot\n",
    "from qiskit import execute\n",
    "import math\n",
    "from math import pi\n",
    "\n",
    "backend = 'local_qasm_simulator'\n",
    "q_r = QuantumRegister(2)\n",
    "c_r = ClassicalRegister(2)\n",
    "\n",
    "q_c = QuantumCircuit(q_r, c_r)\n",
    "\n",
    "def H_gate(q_cir, qubit):\n",
    "    q_cir.ry(pi/2, qubit)\n",
    "    q_cir.rx(pi, qubit)\n",
    "    \n",
    "def bell_cir(q_cir, qub1, qub2, theta, phi):\n",
    "    q_cir.ry(theta, qub1)\n",
    "    q_cir.ry(phi, qub2)\n",
    "    H_gate(q_cir, qub1)\n",
    "    q_cir.cx(qub1, qub2)\n",
    "\n",
    "theta = float(input(\"theta:\"))\n",
    "phi = float(input(\"phi:\"))\n",
    "no_shots = int(input(\"no of shots:\"))\n",
    "learning_rate = 1\n",
    "\n",
    "expression1 = ((math.cos(phi/2) ** 2) * ((math.cos(theta/2) + math.sin(theta/2)) ** 2)) * .5\n",
    "expression2 = ((math.cos(phi/2) ** 2) * ((math.cos(theta/2) - math.sin(theta/2)) ** 2)) * .5\n",
    "expression3 = ((1 - (math.sin(phi/2) * (math.cos(theta/2) + math.sin(theta/2)))) ** 2) * .5\n",
    "expression4 = ((1 - (math.sin(phi/2) * (math.cos(theta/2) - math.sin(theta/2)))) ** 2) * .5\n",
    "expression = expression1 + expression2 + expression3 + expression4\n",
    "\n",
    "while expression > .00000001:\n",
    "    #diff_wrt_theta = 1.414214*(-0.707107*(-math.sin(theta/2) + math.cos(theta/2))*math.sin(phi/2) + 1)*(-math.sin(theta/2)/2 - math.cos(theta/2)/2)*math.sin(phi/2) + 1.414214*(-0.707107*(math.sin(theta/2) + math.cos(theta/2))*math.sin(phi/2) + 1)*(-math.sin(theta/2)/2 + math.cos(theta/2)/2)*math.sin(phi/2) - 0.5*(-math.sin(theta/2) - math.cos(theta/2))*(-math.sin(theta/2) + math.cos(theta/2))*math.cos(phi/2)**2 - 0.5*(-math.sin(theta/2) + math.cos(theta/2))*(math.sin(theta/2) + math.cos(theta/2))*math.cos(phi/2)**2\n",
    "    #diff_wrt_phi = 0.707107*(-0.707107*(-math.sin(theta/2) + math.cos(theta/2))*math.sin(phi/2) + 1)*(-math.sin(theta/2) + math.cos(theta/2))*math.cos(phi/2) + 0.707107*(-0.707107*(math.sin(theta/2) + math.cos(theta/2))*math.sin(phi/2) + 1)*(math.sin(theta/2) + math.cos(theta/2))*math.cos(phi/2) + 0.5*(-math.sin(theta/2) + math.cos(theta/2))**2*math.sin(phi/2)*math.cos(phi/2) + 0.5*(math.sin(theta/2) + math.cos(theta/2))**2*math.sin(phi/2)*math.cos(phi/2)\n",
    "    diff_wrt_theta = 0.5*(-math.sin(theta/2) + math.cos(theta/2))*(math.sin(theta/2) + math.cos(theta/2))*math.cos(phi/2)**2 +\\\n",
    "        0.5*(-math.sin(theta/2) - math.cos(theta/2))*(-math.sin(theta/2) + math.cos(theta/2))*math.cos(phi/2)**2 +\\\n",
    "        -1.0*(-(math.sin(theta/2) + math.cos(theta/2))*math.sin(phi/2) + 1)*(-math.sin(theta/2)/2 + math.cos(theta/2)/2)*math.sin(phi/2) +\\\n",
    "        -1.0*(-(-math.sin(theta/2) + math.cos(theta/2))*math.sin(phi/2) + 1)*(-math.sin(theta/2)/2 - math.cos(theta/2)/2)*math.sin(phi/2)\n",
    "    diff_wrt_phi = -0.5*(math.sin(theta/2) + math.cos(theta/2))**2*math.sin(phi/2)*math.cos(phi/2) +\\\n",
    "        -0.5*(-math.sin(theta/2) + math.cos(theta/2))**2*math.sin(phi/2)*math.cos(phi/2) +\\\n",
    "        -0.5*(-(math.sin(theta/2) + math.cos(theta/2))*math.sin(phi/2) + 1)*(math.sin(theta/2) + math.cos(theta/2))*math.cos(phi/2) +\\\n",
    "        -0.5*(-(-math.sin(theta/2) + math.cos(theta/2))*math.sin(phi/2) + 1)*(-math.sin(theta/2) + math.cos(theta/2))*math.cos(phi/2)\n",
    "    theta = theta - learning_rate * diff_wrt_theta\n",
    "    phi = phi - learning_rate * diff_wrt_phi\n",
    "    expression1 = ((math.cos(phi/2) ** 2) * ((math.cos(theta/2) + math.sin(theta/2)) ** 2)) * .5\n",
    "    expression2 = ((math.cos(phi/2) ** 2) * ((math.cos(theta/2) - math.sin(theta/2)) ** 2)) * .5\n",
    "    expression3 = ((1 - (math.sin(phi/2) * (math.cos(theta/2) + math.sin(theta/2)))) ** 2) * .5\n",
    "    expression4 = ((1 - (math.sin(phi/2) * (math.cos(theta/2) - math.sin(theta/2)))) ** 2) * .5\n",
    "    expression = expression1 + expression2 + expression3 + expression4\n",
    "    \n",
    "print(\"final result::\")\n",
    "print(\"theta: {}, phi: {}\".format(theta, phi))\n",
    "bell_cir(q_c, q_r[0], q_r[1], theta, phi)\n",
    "\n",
    "q_c.measure(q_r[0], c_r[0])\n",
    "q_c.measure(q_r[1], c_r[1])\n",
    "\n",
    "job = execute(q_c, backend,shots=no_shots)\n",
    "result = job.result()\n",
    "plot_histogram(result.get_counts(q_c))\n",
    "\n",
    "\"\"\"The equal probability outcome of 01 and 10 state will come when the number of measurement will be large.\n",
    "\n",
    "   Measurement of just only 10 or smaller outcome will result skewed outcome\n",
    "   \n",
    "   Measurement more than 100 and 1000 or more will result almost equal probability distribution of the 2 states.\n",
    "   \n",
    "   The construction itself shows the deterministic outcome of 01 and 10 because to minimise the cost function which is formed and are used in gradient descent with the \n",
    "   output state vector [0 1 1 0] with no additional phase is considered with output state vector.\n",
    "   \n",
    "   For outcome of 01 and -10, the same state vector will be used with a phase of pi to be considered at the 3rd index of the output state vector.\n",
    "   \n",
    "   The minimising condition at the gradient discent will be changed in order to accomodate the theta and phi parameter will thus be modified to fulfill the minimising condition for gradient descent.\n",
    "   \n",
    "   Thus the above construction gives the guaranty of the output.\"\"\"\n"
   ]
  },
  {
   "cell_type": "code",
   "execution_count": null,
   "metadata": {},
   "outputs": [],
   "source": []
  },
  {
   "cell_type": "code",
   "execution_count": null,
   "metadata": {},
   "outputs": [],
   "source": []
  }
 ],
 "metadata": {
  "kernelspec": {
   "display_name": "Python 3",
   "language": "python",
   "name": "python3"
  },
  "language_info": {
   "codemirror_mode": {
    "name": "ipython",
    "version": 3
   },
   "file_extension": ".py",
   "mimetype": "text/x-python",
   "name": "python",
   "nbconvert_exporter": "python",
   "pygments_lexer": "ipython3",
   "version": "3.6.4"
  }
 },
 "nbformat": 4,
 "nbformat_minor": 2
}
