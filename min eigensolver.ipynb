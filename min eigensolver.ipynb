{
 "cells": [
  {
   "cell_type": "code",
   "execution_count": 2,
   "metadata": {},
   "outputs": [
    {
     "name": "stdout",
     "output_type": "stream",
     "text": [
      "enter parameterised angle (theta) for qubit-0: 0 \n",
      "enter parameterised angle (phi) for qubit-1: 0\n"
     ]
    },
    {
     "data": {
      "image/png": "[encoded data removed]",
      "text/plain": [
       "<matplotlib.figure.Figure at 0xc0c91d0>"
      ]
     },
     "metadata": {},
     "output_type": "display_data"
    },
    {
     "name": "stdout",
     "output_type": "stream",
     "text": [
      "final Eigenval::\n",
      "theta: 1.57079632679490, phi: 3.14159265358979, result: -1.00000000000000\n",
      "OPENQASM 2.0;\n",
      "include \"qelib1.inc\";\n",
      "qreg q1[2];\n",
      "creg c1[2];\n",
      "rx(1.57079632679490) q1[0];\n",
      "rx(3.14159265358979) q1[1];\n",
      "cx q1[0],q1[1];\n",
      "z q1[0];\n",
      "z q1[1];\n",
      "cx q1[0],q1[1];\n",
      "cx q1[1],q1[0];\n",
      "cx q1[0],q1[1];\n",
      "\n"
     ]
    }
   ],
   "source": [
    "\"\"\"To find minimum Eigenvalue of a given Hamiltonian (from hamiltonian_cir)\"\"\"\n",
    "\n",
    "import sympy as sym\n",
    "from math import pi\n",
    "from qiskit import QuantumRegister, ClassicalRegister, QuantumCircuit\n",
    "from qiskit.tools.visualization import plot_bloch_vector, plot_histogram\n",
    "from matplotlib import pyplot\n",
    "from qiskit import execute\n",
    "\n",
    "backend = 'local_qasm_simulator'\n",
    "q_r = QuantumRegister(2)\n",
    "c_r = ClassicalRegister(2)\n",
    "\n",
    "q_c = QuantumCircuit(q_r, c_r)\n",
    "\n",
    "\"\"\"param_cir is my test parameterised variational circuit\n",
    "   Since the given Hamiltonian is 4X4 matrix, 2 parameterised qubits (theta and phi) are taken\n",
    "   Their mutual interaction is simulated with CNOT gate\"\"\"\n",
    "def param_cir(circuit, qbit0, theta, qbit1, phi):\n",
    "    circuit.rx(theta, qbit0)\n",
    "    circuit.rx(phi, qbit1)\n",
    "    circuit.cx(qbit0, qbit1)\n",
    "    hamiltonian_cir(circuit, qbit0, qbit1)\n",
    "\n",
    "def hamiltonian_cir(circuit, qbit0, qbit1):\n",
    "    circuit.z(qbit0)\n",
    "    circuit.z(qbit1)\n",
    "    circuit.cx(qbit0, qbit1)\n",
    "    circuit.cx(qbit1, qbit0)\n",
    "    circuit.cx(qbit0, qbit1)\n",
    "    \n",
    "theta, phi = sym.symbols('theta phi')\n",
    "\n",
    "theta_mat = sym.Matrix([theta])\n",
    "phi_mat = sym.Matrix([phi])\n",
    "\n",
    "\"\"\"Input parameterised tensor state\"\"\"\n",
    "in_state_tensor = sym.Matrix([\n",
    "    [sym.cos(theta/2)*sym.cos(phi/2)],\n",
    "    [sym.cos(theta/2)*sym.sin(phi/2)],\n",
    "    [sym.sin(theta/2)*sym.cos(phi/2)],\n",
    "    [sym.sin(theta/2)*sym.sin(phi/2)]])\n",
    "\n",
    "cx_mat = sym.Matrix([\n",
    "    [1, 0, 0, 0],\n",
    "    [0, 1, 0, 0],\n",
    "    [0, 0, 0, 1],\n",
    "    [0, 0, 1, 0]])\n",
    "\n",
    "\"\"\"symbolic output of param_cir\"\"\"\n",
    "in_ansatz = cx_mat * in_state_tensor\n",
    "\n",
    "\"\"\"calculating bra of in_ansatz\"\"\"\n",
    "in_dual_ansatz = in_ansatz.T\n",
    "\n",
    "\"\"\"Hamiltonian matrix output from hamiltonian_cir - need to find min Eigenvalue for it\"\"\"\n",
    "in_hamiltonian = sym.Matrix([\n",
    "    [1, 0, 0, 0],\n",
    "    [0, 0, -1, 0],\n",
    "    [0, -1, 0, 0],\n",
    "    [0, 0, 0, 1]])\n",
    "\n",
    "\"\"\"calculating expected symbolic value of the Hamiltonian\"\"\"\n",
    "hamiltonian_expectation = ((in_dual_ansatz * in_hamiltonian * in_ansatz) / (in_dual_ansatz * in_ansatz))\n",
    "\n",
    "\"\"\"partial diff with respect to theta and phi respectively\"\"\"\n",
    "exp_diff_theta = sym.diff(hamiltonian_expectation, theta)\n",
    "exp_diff_phi = sym.diff(hamiltonian_expectation, phi)\n",
    "\n",
    "alpha = float(input(\"enter parameterised angle (theta) for qubit-0: \"))\n",
    "beta = float(input(\"enter parameterised angle (phi) for qubit-1: \"))\n",
    "count = 0\n",
    "\n",
    "\"\"\"take precaution\"\"\"\n",
    "if alpha == 0:\n",
    "    alpha = .0001\n",
    "if beta == 0:\n",
    "    beta = .0001\n",
    "    \n",
    "theta_mat_val = theta_mat.subs(theta, alpha).as_mutable()\n",
    "phi_mat_val = phi_mat.subs(phi, beta).as_mutable()\n",
    "\n",
    "output_result = hamiltonian_expectation.subs(theta, alpha).subs(phi, beta).as_mutable()\n",
    "diff_wrt_alpha = exp_diff_theta.subs(theta, alpha).subs(phi, beta).as_mutable()\n",
    "diff_wrt_beta = exp_diff_phi.subs(theta, alpha).subs(phi, beta).as_mutable()\n",
    "\n",
    "pyplot.plot(count, output_result[0,0], 'ob-')\n",
    "\n",
    "\"\"\"gradient descent algo - the experiment shows around count 10 (used 30 here) is sufficient to get min\"\"\"\n",
    "while count < 30:\n",
    "    theta_mat_val = theta_mat_val - diff_wrt_alpha\n",
    "    phi_mat_val = phi_mat_val - diff_wrt_beta\n",
    "    \n",
    "    output_result = hamiltonian_expectation.subs(theta, theta_mat_val[0,0]).subs(phi, phi_mat_val[0,0]).as_mutable()\n",
    "    diff_wrt_alpha = exp_diff_theta.subs(theta, theta_mat_val[0,0]).subs(phi, phi_mat_val[0,0]).as_mutable()\n",
    "    diff_wrt_beta = exp_diff_phi.subs(theta, theta_mat_val[0,0]).subs(phi, phi_mat_val[0,0]).as_mutable()\n",
    "    count = count + 1\n",
    "    pyplot.plot(count, output_result[0,0], 'ob-')\n",
    "\n",
    "pyplot.xlabel(\"count\", fontsize=12)\n",
    "pyplot.ylabel(\"Eigenval\", fontsize=12)\n",
    "pyplot.title('Eigenval vs count')\n",
    "pyplot.show()\n",
    "\n",
    "print(\"final Eigenval::\")\n",
    "print(\"theta: {}, phi: {}, result: {}\".format(theta_mat_val[0,0], phi_mat_val[0,0], output_result[0,0]))\n",
    "\n",
    "param_cir(q_c, q_r[0], theta_mat_val[0,0], q_r[1], phi_mat_val[0,0])\n",
    "QASM_source = q_c.qasm()\n",
    "print(QASM_source)"
   ]
  },
  {
   "cell_type": "code",
   "execution_count": null,
   "metadata": {},
   "outputs": [],
   "source": []
  },
  {
   "cell_type": "code",
   "execution_count": null,
   "metadata": {},
   "outputs": [],
   "source": [
    ".01\n"
   ]
  }
 ],
 "metadata": {
  "kernelspec": {
   "display_name": "Python 3",
   "language": "python",
   "name": "python3"
  },
  "language_info": {
   "codemirror_mode": {
    "name": "ipython",
    "version": 3
   },
   "file_extension": ".py",
   "mimetype": "text/x-python",
   "name": "python",
   "nbconvert_exporter": "python",
   "pygments_lexer": "ipython3",
   "version": "3.6.4"
  }
 },
 "nbformat": 4,
 "nbformat_minor": 2
}
